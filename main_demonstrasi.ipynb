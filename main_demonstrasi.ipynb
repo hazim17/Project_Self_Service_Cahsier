{
  "cells": [
    {
      "cell_type": "markdown",
      "source": [
        "# **Main**"
      ],
      "metadata": {
        "id": "2-k9Z4lpgiE8"
      }
    },
    {
      "cell_type": "code",
      "source": [
        "# Import libraries\n",
        "from datetime import date\n",
        "import pandas as pd\n",
        "\n",
        "# Import c6_trx module\n",
        "from module_transaction import C6_trx\n",
        "\n",
        "class Transaction:\n",
        "    \"\"\"\n",
        "    Class untuk membuat id transaksi dan memanggil class C6_trx\n",
        "\n",
        "    Terdapat method:\n",
        "        - constructor (__init__): Melakukan looping untuk memasukkan text dan\n",
        "                                  menjalankan module.\n",
        "    \"\"\"\n",
        "    # Membuat datetime today untuk id transaksi\n",
        "    today = date.today()\n",
        "    d1 = today.strftime(\"%d-%m-%Y\")\n",
        "\n",
        "    # Database product\n",
        "    database_pdct = {\n",
        "        \"minyak goreng\": 30000,\n",
        "        \"beras\": 20000,\n",
        "        \"telur\": 25000,\n",
        "        \"sabun\": 11000,\n",
        "        \"shampo\": 16000,\n",
        "        \"pasta gigi\": 15000,\n",
        "        \"ayam goreng\": 20000,\n",
        "        \"data dihapus\":0}\n",
        "\n",
        "    # Dictionary untuk menyimpan Data Transaction\n",
        "    c6_dict = {}\n",
        "\n",
        "    def __init__(self, id_iter = 0, c6_dict = c6_dict,\n",
        "                 database_pdct = database_pdct, d1 = d1):\n",
        "        \"\"\"\n",
        "        Parameter:\n",
        "            - id_iter: nomor yang bertambah untuk id transaksi\n",
        "            - c6_dict: dictionary untuk menyimpan data transaksi\n",
        "            - database_pdct: Database product yang kita miliki\n",
        "            - d1: tanggal hari ini, untuk id transaksi\n",
        "        \"\"\"\n",
        "        self.id_iter = id_iter\n",
        "        self.c6_dict = c6_dict\n",
        "        self.database_pdct = database_pdct\n",
        "        self.d1 = d1\n",
        "\n",
        "        # Intro text\n",
        "        text_intro = \"\"\"\n",
        "          Selamat Datang di App Supermarket CarreSix (c6).\n",
        "          Kami menyediakan berbagai produk kebutuhan sehari-hari dengan harga murah.\n",
        "          Ketik 'ya' atau 'yes' untuk berbelanja:\n",
        "        \"\"\"\n",
        "        input_intro = input(text_intro)\n",
        "\n",
        "        try:\n",
        "            if input_intro.lower() == 'ya' or input_intro.lower() == 'yes':\n",
        "                id_trx = f\"{self.d1}-{str(self.id_iter)}\"\n",
        "                self.c6_dict.update({id_trx:{}})\n",
        "                self.id_iter += 1\n",
        "                result_intro = (f\"\"\"\n",
        "                  id transaksi kamu adalah = {id_trx}.\n",
        "\n",
        "                  Berikutnya:\n",
        "                  - Ketik 'add_new_item': untuk memasukkan nama, quantitas dan harga produk\n",
        "                  - Ketik 'update_nama': untuk update nama produk, jika ada kesalahan\n",
        "                  - Ketik 'update_qty': untuk update quantitas produk, jika ada kesalahan\n",
        "                  - Ketik 'update_harga': untuk update harga produk, jika ada kesalahan\n",
        "                  - ketik 'delete_row_item': untuk hapus satu row data\n",
        "                  - ketik 'reset': untuk hapus semua data\n",
        "                  - ketik 'check_order': untuk checkout\n",
        "                  - ketik 'total_price': untuk melihat harga dan membayar\n",
        "                  - ketik 'exit': untuk keluar tanpa menyimpan apapun\n",
        "                \"\"\")\n",
        "                command = input(result_intro)\n",
        "\n",
        "                # Run the module\n",
        "                C6_trx(id_trx, self.c6_dict, self.database_pdct, command)\n",
        "\n",
        "            else:\n",
        "                # Jika user salah ketik ya/yes di awal\n",
        "                print(\"\"\"\n",
        "                  Jika kamu salah ketik.\n",
        "                  Mulai kembali dengan memanggil \"Transaction()\",\n",
        "                  dan jangan lupa ketik 'Ya' atau 'Yes'.\n",
        "                  Terima kasih telah memilih Supermarket CarreSix\n",
        "                  untuk belanja kebutuhan harian kamu.\n",
        "                \"\"\")\n",
        "        except Exception as error:\n",
        "            print(\"An error occurred:\", type(error).__name__)\n",
        "\n",
        "\n",
        "\n"
      ],
      "metadata": {
        "id": "lmAir0urZCh7"
      },
      "execution_count": null,
      "outputs": []
    },
    {
      "cell_type": "markdown",
      "source": [
        "## **Test Case**"
      ],
      "metadata": {
        "id": "DJLA6NVxgnMk"
      }
    },
    {
      "cell_type": "markdown",
      "source": [
        "1. Test 1\n",
        "Customer ingin menambahkan dua item baru menggunakan method add_item() [*pada projek ini yaitu 'add_new_item'*]. item yang ditambahkan adalah sebagai berikut:\n",
        "\n",
        "- Nama item: Ayam Goreng, Qty: 2 dan harga per item: 20000\n",
        "- Nama item: Pasta Gigi, Qty: 3 dan harga per item: 15000\n",
        "\n",
        "\n",
        "2. Test 2\n",
        "Ternyata Customer salah membeli salah satu item dari belanjaan yang sudah ditambahkan. Maka customer menggunakan method delete_item() [*pada projek ini yaitu 'delete_row_item'*] untuk menghapus item. Item yang ingin dihapus adalah Pasta gigi.\n",
        "\n",
        "\n",
        "3. Test 3\n",
        "Ternyata setelah dipikir-pikir Customer salah memasukkan item yang ingin dibelanjakan! Daripada menghapusnya satu-sat, maka Customer cukup menggunakan method reset_transaction() [*pada projek ini yaitu 'reset'*] untuk menghapus semua item yang sudah ditambahkan.\n",
        "\n",
        "\n",
        "4. Test 4\n",
        "Setelah Customer selesai berbelanja, akan menghitung total belanja yang harus dibayarkan menggunakan method total_price(). Sebelum mengeluarkan output total belanja akan menampilkan item-item yang dibeli.\n"
      ],
      "metadata": {
        "id": "zv8BXE0ch35j"
      }
    },
    {
      "cell_type": "markdown",
      "source": [
        "**Daftar Produk CarreSix**\n",
        "\n",
        "Nama Produk | Harga |\n",
        "--- | --- |\n",
        "\"minyak goreng\"| 30000|\n",
        "\"beras\"| 20000|\n",
        "\"telur\"| 25000|\n",
        "\"sabun\"| 11000|\n",
        "\"shampo\"| 16000|\n",
        "\"pasta gigi\"| 15000|\n",
        "\"ayam goreng\"| 20000|\n"
      ],
      "metadata": {
        "id": "O5FE-xkhijkt"
      }
    },
    {
      "cell_type": "code",
      "source": [
        "transaction_123 = Transaction()\n",
        "transaction_123"
      ],
      "metadata": {
        "colab": {
          "base_uri": "https://localhost:8080/"
        },
        "id": "QBwNkWo1h3gj",
        "outputId": "63239c60-5628-4c18-a51b-615447383c11"
      },
      "execution_count": null,
      "outputs": [
        {
          "output_type": "stream",
          "name": "stdout",
          "text": [
            "\n",
            "          Selamat Datang di App Supermarket CarreSix (c6).\n",
            "          Kami menyediakan berbagai produk kebutuhan sehari-hari dengan harga murah.\n",
            "          Ketik 'ya' atau 'yes' untuk berbelanja:\n",
            "        ya\n",
            "\n",
            "                  id transaksi kamu adalah = 05-07-2023-0.\n",
            "\n",
            "                  Berikutnya:\n",
            "                  - Ketik 'add_new_item': untuk memasukkan nama, quantitas dan harga produk\n",
            "                  - Ketik 'update_nama': untuk update nama produk, jika ada kesalahan\n",
            "                  - Ketik 'update_qty': untuk update quantitas produk, jika ada kesalahan\n",
            "                  - Ketik 'update_harga': untuk update harga produk, jika ada kesalahan\n",
            "                  - ketik 'delete_row_item': untuk hapus satu row data\n",
            "                  - ketik 'reset': untuk hapus semua data\n",
            "                  - ketik 'check_order': untuk checkout\n",
            "                  - ketik 'total_price': untuk melihat harga dan membayar\n",
            "                  - ketik 'exit': untuk keluar tanpa menyimpan apapun\n",
            "                add_new_item\n",
            "Masukkan nama barang: ayam goreng\n",
            "Masukkan harga barang tersebut: 20000\n",
            "Masukkan jumlah barang yang ingin dibeli: 2\n",
            "{1: ['ayam goreng', '2', '20000']}\n",
            "-------------------\n",
            "masukkan command: add_new_item\n",
            "Masukkan nama barang: pasta gigi\n",
            "Masukkan harga barang tersebut: 15000\n",
            "Masukkan jumlah barang yang ingin dibeli: 3\n",
            "{1: ['ayam goreng', '2', '20000'], 2: ['pasta gigi', '3', '15000']}\n",
            "-------------------\n",
            "masukkan command: delete_row_item\n",
            "Masukkan nama barang yang akan di hapus data nya: pasta gigi\n",
            "{1: ['ayam goreng', '2', '20000'], 2: ['data dihapus', 0, 0]}\n",
            "-------------------\n",
            "masukkan command: reset\n",
            "Anda yakin ingin menghapus semua data?, ketik ya/yes: ya\n",
            "{}\n",
            "-------------------\n",
            "masukkan command: add_new_item\n",
            "Masukkan nama barang: minyak goreng\n",
            "Masukkan harga barang tersebut: 30000\n",
            "Masukkan jumlah barang yang ingin dibeli: 3\n",
            "{3: ['minyak goreng', '3', '30000']}\n",
            "-------------------\n",
            "masukkan command: add_new_item\n",
            "Masukkan nama barang: 16000\n",
            "Masukkan harga barang tersebut: 5\n",
            "Masukkan jumlah barang yang ingin dibeli: 3\n",
            "{3: ['minyak goreng', '3', '30000'], 4: ['16000', '3', '5']}\n",
            "-------------------\n",
            "masukkan command: total_price\n",
            "Pesanan Sudah benar\n",
            "Produk '16000' tidak ada dalam database, mohon periksa kembali apakah ada kesalahan dalam penulisan.\n",
            "       Nama Item Jumlah Item Harga Item  Total Harga\n",
            "3  minyak goreng           3      30000        90000\n",
            "4          16000           3          5           15\n",
            "-------------------\n",
            "masukkan command: update_nama\n",
            "Masukkan nama barang yang akan di update: 16000\n",
            "Masukkan nama barang yang benar: shampo\n",
            "{3: ['minyak goreng', '3', '30000'], 4: ['shampo', '3', '5']}\n",
            "-------------------\n",
            "masukkan command: update_harga\n",
            "Masukkan nama barang yang akan di update: shampo\n",
            "Masukkan harga barang yang benar: 16000\n",
            "{3: ['minyak goreng', '3', '30000'], 4: ['shampo', '3', '16000']}\n",
            "-------------------\n",
            "masukkan command: total_price\n",
            "Pesanan Sudah benar\n",
            "Pesanan Sudah benar\n",
            "       Nama Item Jumlah Item Harga Item  Total Harga\n",
            "3  minyak goreng           3      30000        90000\n",
            "4         shampo           3      16000        48000\n",
            "-------------------\n",
            "Total belanjaan kamu sebesar Rp138,000. Silahkan di bayar.\n"
          ]
        },
        {
          "output_type": "execute_result",
          "data": {
            "text/plain": [
              "<__main__.Transaction at 0x7fb7b66aca90>"
            ]
          },
          "metadata": {},
          "execution_count": 3
        }
      ]
    },
    {
      "cell_type": "code",
      "source": [],
      "metadata": {
        "id": "_LU1wNkogm0U"
      },
      "execution_count": null,
      "outputs": []
    }
  ],
  "metadata": {
    "colab": {
      "provenance": []
    },
    "kernelspec": {
      "display_name": "Python 3 (ipykernel)",
      "language": "python",
      "name": "python3"
    },
    "language_info": {
      "codemirror_mode": {
        "name": "ipython",
        "version": 3
      },
      "file_extension": ".py",
      "mimetype": "text/x-python",
      "name": "python",
      "nbconvert_exporter": "python",
      "pygments_lexer": "ipython3",
      "version": "3.10.9"
    }
  },
  "nbformat": 4,
  "nbformat_minor": 0
}